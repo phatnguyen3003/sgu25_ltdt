{
 "cells": [
  {
   "cell_type": "code",
   "execution_count": 16,
   "id": "a5da6fd9",
   "metadata": {},
   "outputs": [],
   "source": [
    "data = \"\"\"20\n",
    "2 3\n",
    "1 4\n",
    "1 4\n",
    "2 3\n",
    "6 7\n",
    "5 8\n",
    "5 8\n",
    "6 7\n",
    "10\n",
    "9\n",
    "12 13\n",
    "11 13\n",
    "11 12 14\n",
    "13 15\n",
    "14 16\n",
    "15 17 18\n",
    "16 19 20\n",
    "17\n",
    "17\n",
    "17\n",
    "\"\"\"\n",
    "\n",
    "with open(\"bfs.inp\", \"w\", encoding=\"utf-8\") as f:\n",
    "    f.write(data)"
   ]
  },
  {
   "cell_type": "code",
   "execution_count": 17,
   "id": "726d3910",
   "metadata": {},
   "outputs": [
    {
     "name": "stdout",
     "output_type": "stream",
     "text": [
      "thanh phan thu 1 :\n",
      "1 2 3 4 \n",
      "thanh phan thu 2 :\n",
      "5 6 7 8 \n",
      "thanh phan thu 3 :\n",
      "9 10 \n",
      "thanh phan thu 4 :\n",
      "11 12 13 14 15 16 17 18 19 20 \n"
     ]
    }
   ],
   "source": [
    "!g++ bfs_second_time.cpp -o bfs\n",
    "!./bfs"
   ]
  },
  {
   "cell_type": "code",
   "execution_count": 31,
   "id": "0f6f257f",
   "metadata": {},
   "outputs": [],
   "source": [
    "data = \"\"\"50 47 50\n",
    "2 3 4\n",
    "1 3 4\n",
    "1 2 4\n",
    "1 2 3\n",
    "6 7\n",
    "5 7 8\n",
    "5 6 8\n",
    "6 7\n",
    "10 11\n",
    "9 11 12\n",
    "9 10 12\n",
    "10 11\n",
    "14 15 16\n",
    "13 15\n",
    "13 14 16\n",
    "13 15\n",
    "18 19\n",
    "17 19\n",
    "17 18\n",
    "21\n",
    "20 22 23\n",
    "21 23\n",
    "21 22\n",
    "25\n",
    "24 26 27\n",
    "25 27\n",
    "25 26\n",
    "29 30\n",
    "28 30\n",
    "28 29\n",
    "32 33\n",
    "31 33 34\n",
    "31 32 34\n",
    "32 33\n",
    "36\n",
    "35 37 38\n",
    "36 38\n",
    "36 37\n",
    "40 41 42\n",
    "39 41\n",
    "39 40 42\n",
    "39 41\n",
    "44 45\n",
    "43 45 46\n",
    "43 44 46\n",
    "44 45\n",
    "48 49 50\n",
    "47 49\n",
    "47 48 50\n",
    "47 49\n",
    "\n",
    "\"\"\"\n",
    "\n",
    "with open(\"dfs.inp\", \"w\", encoding=\"utf-8\") as f:\n",
    "    f.write(data)"
   ]
  },
  {
   "cell_type": "code",
   "execution_count": 32,
   "id": "a5586243",
   "metadata": {},
   "outputs": [
    {
     "name": "stdout",
     "output_type": "stream",
     "text": [
      "thanh phan thu 1 :\n",
      "1 2 3 4 \n",
      "thanh phan thu 2 :\n",
      "5 6 7 8 \n",
      "thanh phan thu 3 :\n",
      "9 10 11 12 \n",
      "thanh phan thu 4 :\n",
      "13 14 15 16 \n",
      "thanh phan thu 5 :\n",
      "17 18 19 \n",
      "thanh phan thu 6 :\n",
      "20 21 22 23 \n",
      "thanh phan thu 7 :\n",
      "24 25 26 27 \n",
      "thanh phan thu 8 :\n",
      "28 29 30 \n",
      "thanh phan thu 9 :\n",
      "31 32 33 34 \n",
      "thanh phan thu 10 :\n",
      "35 36 37 38 \n",
      "thanh phan thu 11 :\n",
      "39 40 41 42 \n",
      "thanh phan thu 12 :\n",
      "43 44 45 46 \n",
      "thanh phan thu 13 :\n",
      "47 48 49 50 \n",
      "\n",
      "\n",
      "\n",
      "duong di tu 47 den 50 la: \n",
      "47 48 49 50 "
     ]
    }
   ],
   "source": [
    "!g++ dfs_second_time.cpp -o dfs\n",
    "!./dfs"
   ]
  }
 ],
 "metadata": {
  "kernelspec": {
   "display_name": "Python 3",
   "language": "python",
   "name": "python3"
  },
  "language_info": {
   "codemirror_mode": {
    "name": "ipython",
    "version": 3
   },
   "file_extension": ".py",
   "mimetype": "text/x-python",
   "name": "python",
   "nbconvert_exporter": "python",
   "pygments_lexer": "ipython3",
   "version": "3.12.1"
  }
 },
 "nbformat": 4,
 "nbformat_minor": 5
}
