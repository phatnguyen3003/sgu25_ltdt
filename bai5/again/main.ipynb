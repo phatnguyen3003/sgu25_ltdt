{
 "cells": [
  {
   "cell_type": "code",
   "execution_count": 5,
   "id": "0501eb56",
   "metadata": {},
   "outputs": [],
   "source": [
    "data=\"\"\"10 20\n",
    "1 2 4\n",
    "1 3 2\n",
    "2 4 5\n",
    "2 5 3\n",
    "3 5 4\n",
    "3 6 7\n",
    "4 7 2\n",
    "4 8 3\n",
    "5 8 6\n",
    "5 9 4\n",
    "6 9 5\n",
    "6 10 6\n",
    "7 8 2\n",
    "7 9 3\n",
    "8 10 4\n",
    "8 5 1\n",
    "9 10 2\n",
    "9 1 7\n",
    "10 2 3\n",
    "10 3 5\n",
    "\n",
    "\"\"\"\n",
    "\n",
    "with open(\"input_doc.inp\",\"w\",encoding=\"utf-8\") as f:\n",
    "    f.write(data)"
   ]
  },
  {
   "cell_type": "code",
   "execution_count": 6,
   "id": "8dec0479",
   "metadata": {},
   "outputs": [
    {
     "name": "stdout",
     "output_type": "stream",
     "text": [
      "ma tran dist: \n",
      "0 4 2 9 6 9 11 12 10 12 \n",
      "14 0 14 5 3 21 7 8 7 9 \n",
      "15 13 0 18 4 7 20 10 8 10 \n",
      "12 10 12 0 4 19 2 3 5 7 \n",
      "11 9 11 14 0 18 16 6 4 6 \n",
      "12 9 11 14 12 0 16 17 5 6 \n",
      "10 8 10 13 3 17 0 2 3 5 \n",
      "12 7 9 12 1 16 14 0 5 4 \n",
      "7 5 7 10 8 14 12 13 0 2 \n",
      "17 3 5 8 6 12 10 11 10 0 \n",
      "\n",
      "ma tran pre: \n",
      "-1 1 1 2 3 3 4 5 5 9 \n",
      "9 -1 10 2 2 3 4 4 5 9 \n",
      "9 10 -1 2 3 3 4 5 5 9 \n",
      "9 10 10 -1 8 3 4 4 7 8 \n",
      "9 10 10 2 -1 3 4 5 5 9 \n",
      "9 10 10 2 2 -1 4 4 6 6 \n",
      "9 10 10 2 8 3 -1 7 7 9 \n",
      "9 10 10 2 8 3 4 -1 5 8 \n",
      "9 10 10 2 2 3 4 4 -1 9 \n",
      "9 10 10 2 2 3 4 4 5 -1 \n"
     ]
    }
   ],
   "source": [
    "!g++ dijkstra_secondtime.cpp -o dijkstra\n",
    "!./dijkstra"
   ]
  }
 ],
 "metadata": {
  "kernelspec": {
   "display_name": "Python 3",
   "language": "python",
   "name": "python3"
  },
  "language_info": {
   "codemirror_mode": {
    "name": "ipython",
    "version": 3
   },
   "file_extension": ".py",
   "mimetype": "text/x-python",
   "name": "python",
   "nbconvert_exporter": "python",
   "pygments_lexer": "ipython3",
   "version": "3.12.1"
  }
 },
 "nbformat": 4,
 "nbformat_minor": 5
}
