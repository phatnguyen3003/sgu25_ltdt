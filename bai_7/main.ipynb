{
 "cells": [
  {
   "cell_type": "markdown",
   "id": "acd496ff",
   "metadata": {},
   "source": [
    "# input Bài 1 và 2"
   ]
  },
  {
   "cell_type": "code",
   "execution_count": 6,
   "id": "1a07f15f",
   "metadata": {},
   "outputs": [],
   "source": [
    "data=\"\"\"6 6\n",
    "1 2\n",
    "1 3\n",
    "1 6\n",
    "2 4\n",
    "2 5\n",
    "5 6\"\"\"\n",
    "\n",
    "with open(\"input/caykhung_dfs_va_bfs.inp\",\"w\",encoding=\"utf-8\") as file:\n",
    "    file.write(data)"
   ]
  },
  {
   "cell_type": "markdown",
   "id": "349e8a2b",
   "metadata": {},
   "source": [
    "# Bài 7 CÂY KHUNG NHỎ NHẤT\n",
    "## Bài 1: Tìm cây khung DFS (CAYKHUNG_DFS.*)\n",
    "\n",
    "Ý tưởng: duyệt từng đỉnh trong đồ thị bằng dfs và thêm cặp đỉnh u và v vào vector pair tượng trưng cho cây khung tìm được."
   ]
  },
  {
   "cell_type": "markdown",
   "id": "1dfaa3fb",
   "metadata": {},
   "source": [
    "Mã giả:\n",
    "\n",
    "//khởi tạo\n",
    "vector<pair<int>>caykhung\n",
    "vector<int> visited\n",
    "\n",
    "duyet_dfs(int u)\n",
    "{\n",
    "    visited[u] <== true\n",
    "    for v in adjList[u] do\n",
    "    {\n",
    "        if(!visited[v]) // v chưa thăm\n",
    "        {\n",
    "            caykhung <== {u,v}\n",
    "            duyet_dfs(v)\n",
    "        }\n",
    "    }\n",
    "}"
   ]
  },
  {
   "cell_type": "code",
   "execution_count": 13,
   "id": "3ae15063",
   "metadata": {},
   "outputs": [
    {
     "name": "stdout",
     "output_type": "stream",
     "text": [
      "cay khung dfs gom:\n",
      "1 2\n",
      "2 4\n",
      "2 5\n",
      "5 6\n",
      "1 3\n"
     ]
    }
   ],
   "source": [
    "!g++ caykhung_dfs.cpp -o caykhung_dfs\n",
    "!./caykhung_dfs"
   ]
  },
  {
   "cell_type": "markdown",
   "id": "056c7b0e",
   "metadata": {},
   "source": [
    "## Bài 2 Tìm cây khung BFS (CAYKHUNG_BFS.*)\n",
    "\n",
    "Ý tưởng: dùng thuật toán BFS duyệt các đỉnh trong đồ thị và thêm từng cặp cạnh u và v vào vector pair caykhung chứa cây khung đang tìm. Vì yêu cầu đề bài duyệt theo dạng từng tầng lớp tăng dần từ đỉnh đầu nên không dùng stack mà dùng mảng vector để duyệt dần theo thứ tự vào của các đỉnh kề."
   ]
  },
  {
   "cell_type": "markdown",
   "id": "5378dae6",
   "metadata": {},
   "source": [
    "Mã giả:\n",
    "\n",
    "duyet_bfs(int dau)\n",
    "{\n",
    "    // khởi tạo:\n",
    "    visited[dau]=true\n",
    "    vector<int> hangdoi\n",
    "    vector<pair<int>> caykhung //chứa cây khung\n",
    "    hangdoi <== dau\n",
    "\n",
    "    for i =0 to hangdoi.size do\n",
    "    {\n",
    "        u = hangdoi[i]\n",
    "        for v in adjList[u] do\n",
    "        {\n",
    "            if(!visited[v]) // v chưa thăm\n",
    "            {\n",
    "                visited[v] <== true\n",
    "                caykhung <== {u,v}\n",
    "                hangdoi <== v\n",
    "            }\n",
    "        }\n",
    "    }\n",
    "}"
   ]
  },
  {
   "cell_type": "code",
   "execution_count": 10,
   "id": "e8411852",
   "metadata": {},
   "outputs": [
    {
     "name": "stdout",
     "output_type": "stream",
     "text": [
      "cay khung bfs la: \n",
      "1 2\n",
      "1 3\n",
      "1 6\n",
      "2 4\n",
      "2 5\n"
     ]
    }
   ],
   "source": [
    "!g++ caykhung_bfs.cpp -o caykhung_bfs\n",
    "!./caykhung_bfs"
   ]
  }
 ],
 "metadata": {
  "kernelspec": {
   "display_name": "Python 3",
   "language": "python",
   "name": "python3"
  },
  "language_info": {
   "codemirror_mode": {
    "name": "ipython",
    "version": 3
   },
   "file_extension": ".py",
   "mimetype": "text/x-python",
   "name": "python",
   "nbconvert_exporter": "python",
   "pygments_lexer": "ipython3",
   "version": "3.12.1"
  }
 },
 "nbformat": 4,
 "nbformat_minor": 5
}
