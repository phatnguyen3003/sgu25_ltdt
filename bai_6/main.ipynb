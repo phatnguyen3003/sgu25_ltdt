{
 "cells": [
  {
   "cell_type": "markdown",
   "id": "6cca877f",
   "metadata": {},
   "source": [
    "# Bài tập 6\n",
    "\n",
    "## bài 1"
   ]
  },
  {
   "cell_type": "code",
   "execution_count": 1,
   "id": "427af581",
   "metadata": {},
   "outputs": [],
   "source": [
    "data = \"\"\"5 1 4\n",
    "0 0 5\n",
    "0 40 10\n",
    "0 90 5\n",
    "10 10 20\n",
    "10 50 5\n",
    "\"\"\"\n",
    "\n",
    "with open(\"input/cycle.inp\", \"w\", encoding=\"utf-8\") as f:\n",
    "    f.write(data)"
   ]
  },
  {
   "cell_type": "code",
   "execution_count": 2,
   "id": "c5702fcc",
   "metadata": {},
   "outputs": [
    {
     "name": "stdout",
     "output_type": "stream",
     "text": [
      "1\n",
      "1 -1\n",
      "2 0\n",
      "4 0\n"
     ]
    }
   ],
   "source": [
    "!g++ cycle.cpp -o cycle\n",
    "!./cycle"
   ]
  },
  {
   "cell_type": "markdown",
   "id": "457b2ba0",
   "metadata": {},
   "source": [
    "# Bài 2"
   ]
  },
  {
   "cell_type": "code",
   "execution_count": 5,
   "id": "5f8a43cf",
   "metadata": {},
   "outputs": [],
   "source": [
    "data = \"\"\"3 4 1 1 3 4\n",
    "1 2 1 1\n",
    "0 3 0 2\n",
    "1 2 3 4\n",
    "\"\"\"\n",
    "\n",
    "with open(\"input/mintable.inp\", \"w\", encoding=\"utf-8\") as f:\n",
    "    f.write(data)"
   ]
  },
  {
   "cell_type": "code",
   "execution_count": 6,
   "id": "7e513523",
   "metadata": {},
   "outputs": [
    {
     "name": "stdout",
     "output_type": "stream",
     "text": [
      "1\n",
      "6\n",
      "1 1\n",
      "1 2\n",
      "1 3\n",
      "2 4\n",
      "3 4\n"
     ]
    }
   ],
   "source": [
    "!g++ mintable.cpp -o mintable\n",
    "!./mintable"
   ]
  }
 ],
 "metadata": {
  "kernelspec": {
   "display_name": "Python 3",
   "language": "python",
   "name": "python3"
  },
  "language_info": {
   "codemirror_mode": {
    "name": "ipython",
    "version": 3
   },
   "file_extension": ".py",
   "mimetype": "text/x-python",
   "name": "python",
   "nbconvert_exporter": "python",
   "pygments_lexer": "ipython3",
   "version": "3.12.1"
  }
 },
 "nbformat": 4,
 "nbformat_minor": 5
}
