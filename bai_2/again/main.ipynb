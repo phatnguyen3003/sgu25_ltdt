{
 "cells": [
  {
   "cell_type": "code",
   "execution_count": 1,
   "id": "3cc75903",
   "metadata": {},
   "outputs": [],
   "source": [
    "data=\"\"\"5\n",
    "0 1 1 0 1\n",
    "1 0 0 1 0\n",
    "1 0 0 1 1\n",
    "0 1 1 0 1\n",
    "1 0 1 1 0\n",
    "\"\"\"\n",
    "\n",
    "with open(\"input.inp\",\"w\",encoding=\"utf-8\") as f:\n",
    "    f.write(data)"
   ]
  },
  {
   "cell_type": "code",
   "execution_count": 5,
   "id": "eecb88d5",
   "metadata": {},
   "outputs": [
    {
     "name": "stdout",
     "output_type": "stream",
     "text": [
      "ma tran ke:\n",
      "0 1 1 0 1 \n",
      "1 0 0 1 0 \n",
      "1 0 0 1 1 \n",
      "0 1 1 0 1 \n",
      "1 0 1 1 0 \n",
      "danh sach ke:\n",
      "2 3 5 \n",
      "1 4 \n",
      "1 4 5 \n",
      "2 3 5 \n",
      "1 3 4 \n",
      "danh sach canh:\n",
      "(1,2)\n",
      "(1,3)\n",
      "(1,5)\n",
      "(2,1)\n",
      "(2,4)\n",
      "(3,1)\n",
      "(3,4)\n",
      "(3,5)\n",
      "(4,2)\n",
      "(4,3)\n",
      "(4,5)\n",
      "(5,1)\n",
      "(5,3)\n",
      "(5,4)\n"
     ]
    }
   ],
   "source": [
    "!g++ matranke.cpp -o matranke\n",
    "!./matranke"
   ]
  }
 ],
 "metadata": {
  "kernelspec": {
   "display_name": "Python 3",
   "language": "python",
   "name": "python3"
  },
  "language_info": {
   "codemirror_mode": {
    "name": "ipython",
    "version": 3
   },
   "file_extension": ".py",
   "mimetype": "text/x-python",
   "name": "python",
   "nbconvert_exporter": "python",
   "pygments_lexer": "ipython3",
   "version": "3.12.1"
  }
 },
 "nbformat": 4,
 "nbformat_minor": 5
}
